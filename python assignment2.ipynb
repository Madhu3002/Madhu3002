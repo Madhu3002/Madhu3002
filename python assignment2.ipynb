{
 "cells": [
  {
   "cell_type": "markdown",
   "id": "fa2456cb",
   "metadata": {},
   "source": [
    "## Get the input for 2 variables though “input” function and pass them to a function to return the addition of two variables"
   ]
  },
  {
   "cell_type": "code",
   "execution_count": 70,
   "id": "664cc2ff",
   "metadata": {},
   "outputs": [
    {
     "name": "stdout",
     "output_type": "stream",
     "text": [
      "Enter the value of A:10\n",
      "Enter the value of B:15\n",
      "The result is 25\n"
     ]
    }
   ],
   "source": [
    "def func():\n",
    "    a= int (input(\"Enter the value of A:\"))\n",
    "    b= int (input(\"Enter the value of B:\"))\n",
    "    c=a+b\n",
    "    print(\"The result is\", c)\n",
    "func()"
   ]
  },
  {
   "cell_type": "markdown",
   "id": "39816bfe",
   "metadata": {},
   "source": [
    "## What happens if we try to add an int with str and vice versa. Please print out the error"
   ]
  },
  {
   "cell_type": "code",
   "execution_count": 4,
   "id": "86fde868",
   "metadata": {},
   "outputs": [
    {
     "ename": "TypeError",
     "evalue": "unsupported operand type(s) for +: 'int' and 'str'",
     "output_type": "error",
     "traceback": [
      "\u001b[1;31m---------------------------------------------------------------------------\u001b[0m",
      "\u001b[1;31mTypeError\u001b[0m                                 Traceback (most recent call last)",
      "\u001b[1;32mC:\\Users\\MADHU'~1\\AppData\\Local\\Temp/ipykernel_15692/1540915212.py\u001b[0m in \u001b[0;36m<module>\u001b[1;34m\u001b[0m\n\u001b[0;32m      1\u001b[0m \u001b[0ma\u001b[0m\u001b[1;33m=\u001b[0m \u001b[1;36m400\u001b[0m\u001b[1;33m\u001b[0m\u001b[1;33m\u001b[0m\u001b[0m\n\u001b[0;32m      2\u001b[0m \u001b[0mb\u001b[0m\u001b[1;33m=\u001b[0m\u001b[1;34m\"XUV\"\u001b[0m\u001b[1;33m\u001b[0m\u001b[1;33m\u001b[0m\u001b[0m\n\u001b[1;32m----> 3\u001b[1;33m \u001b[0mc\u001b[0m\u001b[1;33m=\u001b[0m \u001b[0ma\u001b[0m\u001b[1;33m+\u001b[0m\u001b[0mb\u001b[0m\u001b[1;33m\u001b[0m\u001b[1;33m\u001b[0m\u001b[0m\n\u001b[0m\u001b[0;32m      4\u001b[0m \u001b[0mprint\u001b[0m\u001b[1;33m(\u001b[0m\u001b[0mc\u001b[0m\u001b[1;33m)\u001b[0m\u001b[1;33m\u001b[0m\u001b[1;33m\u001b[0m\u001b[0m\n",
      "\u001b[1;31mTypeError\u001b[0m: unsupported operand type(s) for +: 'int' and 'str'"
     ]
    }
   ],
   "source": [
    "a= 400\n",
    "b=\"XUV\"\n",
    "c= a+b\n",
    "print(c)"
   ]
  },
  {
   "cell_type": "markdown",
   "id": "82a8e171",
   "metadata": {},
   "source": [
    "## Create a string variable for the word “Data Science” and see if the letter “s” is present in it using membership operators"
   ]
  },
  {
   "cell_type": "code",
   "execution_count": 6,
   "id": "541db039",
   "metadata": {},
   "outputs": [
    {
     "name": "stdout",
     "output_type": "stream",
     "text": [
      "True\n"
     ]
    }
   ],
   "source": [
    "a=\" data Science\"\n",
    "print(\"S\"in a)"
   ]
  },
  {
   "cell_type": "markdown",
   "id": "ba9f865e",
   "metadata": {},
   "source": [
    "## Write a function and pass a number list as an argument to the function. And return True if the first and last number of a given list is same. If numbers are different then return False"
   ]
  },
  {
   "cell_type": "code",
   "execution_count": 27,
   "id": "e5c66aaa",
   "metadata": {},
   "outputs": [
    {
     "name": "stdout",
     "output_type": "stream",
     "text": [
      "True\n"
     ]
    }
   ],
   "source": [
    "list1=[1,3,4,5,1]\n",
    "def func(abc):\n",
    "    print(list1[0]is list1[4])\n",
    "func(list1)\n",
    "    "
   ]
  },
  {
   "cell_type": "code",
   "execution_count": 28,
   "id": "81013a5a",
   "metadata": {},
   "outputs": [
    {
     "name": "stdout",
     "output_type": "stream",
     "text": [
      "False\n"
     ]
    }
   ],
   "source": [
    "def func(abc):\n",
    "    list1=[1,3,4,2]\n",
    "    print(list1[0]is list1[3])\n",
    "func(list1)"
   ]
  },
  {
   "cell_type": "markdown",
   "id": "80da43c3",
   "metadata": {},
   "source": [
    "## Iterate the given list of numbers (l1) and print only those numbers which are divisible by 5. (l1 = [10, 20, 33, 46, 55])"
   ]
  },
  {
   "cell_type": "code",
   "execution_count": 29,
   "id": "9ce7854b",
   "metadata": {},
   "outputs": [
    {
     "name": "stdout",
     "output_type": "stream",
     "text": [
      "[10, 20, 55]\n"
     ]
    }
   ],
   "source": [
    "l1=[10,20,33,46,55]\n",
    "def func(abc):\n",
    "    div=[a for a in l1 if a%5==0]\n",
    "    print(div)\n",
    "func(l1)\n",
    "    "
   ]
  },
  {
   "cell_type": "markdown",
   "id": "a0bcf36c",
   "metadata": {},
   "source": [
    "## Write a program to create function calculation() such that it can accept two variables and calculate addition and subtraction. Also, it must return both addition and subtraction in a single return call."
   ]
  },
  {
   "cell_type": "code",
   "execution_count": 34,
   "id": "c70e2ad1",
   "metadata": {},
   "outputs": [
    {
     "data": {
      "text/plain": [
       "(30, -10)"
      ]
     },
     "execution_count": 34,
     "metadata": {},
     "output_type": "execute_result"
    }
   ],
   "source": [
    "def calculation(a,b):\n",
    "    add=a+b\n",
    "    sub=a-b\n",
    "    return add,sub\n",
    "\n",
    "calculation(10,20)"
   ]
  },
  {
   "cell_type": "markdown",
   "id": "d18d54bc",
   "metadata": {},
   "source": [
    "## Write a program to demonstrate the following Syntax error"
   ]
  },
  {
   "cell_type": "code",
   "execution_count": 39,
   "id": "06e191d3",
   "metadata": {},
   "outputs": [
    {
     "ename": "SyntaxError",
     "evalue": "non-default argument follows default argument (Temp/ipykernel_15692/151543051.py, line 1)",
     "output_type": "error",
     "traceback": [
      "\u001b[1;36m  File \u001b[1;32m\"C:\\Users\\MADHU'~1\\AppData\\Local\\Temp/ipykernel_15692/151543051.py\"\u001b[1;36m, line \u001b[1;32m1\u001b[0m\n\u001b[1;33m    def func(a=10,b):\u001b[0m\n\u001b[1;37m                   ^\u001b[0m\n\u001b[1;31mSyntaxError\u001b[0m\u001b[1;31m:\u001b[0m non-default argument follows default argument\n"
     ]
    }
   ],
   "source": [
    "def func(a=10,b):\n",
    "    add=a+b\n",
    "    return add\n",
    "func(10)"
   ]
  },
  {
   "cell_type": "markdown",
   "id": "bc3c0795",
   "metadata": {},
   "source": [
    "## What’s recursion? Explain in your own words and write a program to create a recursive function to calculate the sum of numbers from 0 to 10"
   ]
  },
  {
   "cell_type": "code",
   "execution_count": null,
   "id": "fe78efc8",
   "metadata": {},
   "outputs": [],
   "source": [
    "Recurssion : a func being called within the funuction repeatedly until the outcome comes."
   ]
  },
  {
   "cell_type": "code",
   "execution_count": 71,
   "id": "3a8a911b",
   "metadata": {},
   "outputs": [
    {
     "name": "stdout",
     "output_type": "stream",
     "text": [
      "Enter a number: 20\n",
      "The sum is:  210\n"
     ]
    }
   ],
   "source": [
    "a = int(input(\"Enter a number: \"))\n",
    "def rec(n):\n",
    "    if n <= 1:\n",
    "        return n\n",
    "    else:\n",
    "        return n + rec(n-1)\n",
    "print(\"The sum is: \", rec(a))"
   ]
  },
  {
   "cell_type": "markdown",
   "id": "b1c7fbac",
   "metadata": {},
   "source": [
    "## Use filter and lambda function to calculate square for below numbers only if they are odd number"
   ]
  },
  {
   "cell_type": "code",
   "execution_count": 6,
   "id": "45fa4156",
   "metadata": {},
   "outputs": [],
   "source": [
    "mylist=[12,11,53,22,21,77,87,88,98]"
   ]
  },
  {
   "cell_type": "code",
   "execution_count": 21,
   "id": "7c357c89",
   "metadata": {
    "scrolled": false
   },
   "outputs": [
    {
     "name": "stdout",
     "output_type": "stream",
     "text": [
      "[12, 22, 88, 98]\n",
      "[144, 484, 7744, 9604]\n"
     ]
    }
   ],
   "source": [
    "abc=list(filter(lambda x : x%2== 0, mylist))\n",
    "print(abc)\n",
    "abc1=list(map(lambda x:x*x, abc))\n",
    "print(abc1)"
   ]
  },
  {
   "cell_type": "markdown",
   "id": "4abdbb79",
   "metadata": {},
   "source": [
    "## Write a function (not a lambda function) and use it to demonstrate an example for map function "
   ]
  },
  {
   "cell_type": "code",
   "execution_count": 22,
   "id": "9d31fb2f",
   "metadata": {},
   "outputs": [
    {
     "name": "stdout",
     "output_type": "stream",
     "text": [
      "[6, 8, 10, 12]\n"
     ]
    }
   ],
   "source": [
    "def add(x,y):\n",
    "    return x+y\n",
    "\n",
    "list1=[1,2,3,4]\n",
    "list2=[5,6,7,8]\n",
    "abc=list(map(add,list1,list2))\n",
    "print(abc)"
   ]
  }
 ],
 "metadata": {
  "kernelspec": {
   "display_name": "Python 3 (ipykernel)",
   "language": "python",
   "name": "python3"
  },
  "language_info": {
   "codemirror_mode": {
    "name": "ipython",
    "version": 3
   },
   "file_extension": ".py",
   "mimetype": "text/x-python",
   "name": "python",
   "nbconvert_exporter": "python",
   "pygments_lexer": "ipython3",
   "version": "3.9.7"
  }
 },
 "nbformat": 4,
 "nbformat_minor": 5
}
