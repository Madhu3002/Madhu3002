{
 "cells": [
  {
   "cell_type": "markdown",
   "id": "4e0729e5",
   "metadata": {},
   "source": [
    "## import function"
   ]
  },
  {
   "cell_type": "code",
   "execution_count": 1,
   "id": "a5d9900e",
   "metadata": {},
   "outputs": [],
   "source": [
    "from mypackage import maths\n",
    "from mypackage import cal"
   ]
  },
  {
   "cell_type": "code",
   "execution_count": 4,
   "id": "4036ba68",
   "metadata": {
    "scrolled": false
   },
   "outputs": [
    {
     "name": "stdout",
     "output_type": "stream",
     "text": [
      "Value in Fahrenheit: 68.0\n"
     ]
    },
    {
     "ename": "AttributeError",
     "evalue": "module 'mypackage.cal' has no attribute 'function'",
     "output_type": "error",
     "traceback": [
      "\u001b[1;31m---------------------------------------------------------------------------\u001b[0m",
      "\u001b[1;31mAttributeError\u001b[0m                            Traceback (most recent call last)",
      "\u001b[1;32mC:\\Users\\MADHU'~1\\AppData\\Local\\Temp/ipykernel_22524/3509392667.py\u001b[0m in \u001b[0;36m<module>\u001b[1;34m\u001b[0m\n\u001b[1;32m----> 1\u001b[1;33m \u001b[0mmaths\u001b[0m\u001b[1;33m.\u001b[0m\u001b[0mfunc\u001b[0m\u001b[1;33m(\u001b[0m\u001b[0mcal\u001b[0m\u001b[1;33m.\u001b[0m\u001b[0mconv\u001b[0m\u001b[1;33m(\u001b[0m\u001b[1;36m20\u001b[0m\u001b[1;33m)\u001b[0m\u001b[1;33m)\u001b[0m\u001b[1;33m\u001b[0m\u001b[1;33m\u001b[0m\u001b[0m\n\u001b[0m",
      "\u001b[1;32mD:\\anaconda software\\lib\\site-packages\\mypackage\\maths.py\u001b[0m in \u001b[0;36mfunc\u001b[1;34m(function)\u001b[0m\n\u001b[0;32m      2\u001b[0m \u001b[1;33m\u001b[0m\u001b[0m\n\u001b[0;32m      3\u001b[0m \u001b[1;32mdef\u001b[0m \u001b[0mfunc\u001b[0m\u001b[1;33m(\u001b[0m\u001b[0mfunction\u001b[0m\u001b[1;33m)\u001b[0m\u001b[1;33m:\u001b[0m\u001b[1;33m\u001b[0m\u001b[1;33m\u001b[0m\u001b[0m\n\u001b[1;32m----> 4\u001b[1;33m     \u001b[0ma\u001b[0m\u001b[1;33m=\u001b[0m\u001b[0mcal\u001b[0m\u001b[1;33m.\u001b[0m\u001b[0mfunction\u001b[0m\u001b[1;33m(\u001b[0m\u001b[1;33m)\u001b[0m\u001b[1;33m\u001b[0m\u001b[1;33m\u001b[0m\u001b[0m\n\u001b[0m\u001b[0;32m      5\u001b[0m     \u001b[1;32mreturn\u001b[0m \u001b[0ma\u001b[0m\u001b[1;33m\u001b[0m\u001b[1;33m\u001b[0m\u001b[0m\n\u001b[0;32m      6\u001b[0m \u001b[1;33m\u001b[0m\u001b[0m\n",
      "\u001b[1;31mAttributeError\u001b[0m: module 'mypackage.cal' has no attribute 'function'"
     ]
    }
   ],
   "source": [
    "maths.func(cal.conv(20))"
   ]
  },
  {
   "cell_type": "markdown",
   "id": "cd8141fa",
   "metadata": {},
   "source": [
    "## Fibonacci series"
   ]
  },
  {
   "cell_type": "code",
   "execution_count": 17,
   "id": "ce37dbb2",
   "metadata": {},
   "outputs": [
    {
     "name": "stdout",
     "output_type": "stream",
     "text": [
      "enter the value10\n",
      "2\n",
      "4\n",
      "8\n",
      "16\n",
      "32\n",
      "64\n",
      "128\n",
      "256\n",
      "512\n",
      "1024\n"
     ]
    }
   ],
   "source": [
    "def febo():\n",
    "    n1=0\n",
    "    n2=1\n",
    "    while True:\n",
    "        n1=n2\n",
    "        n2=n1+n2\n",
    "        yield n2\n",
    "\n",
    "obj=febo()\n",
    "\n",
    "n=int(input('enter the value'))         \n",
    "for n in range(0,n):\n",
    "    print (next(obj)) "
   ]
  },
  {
   "cell_type": "markdown",
   "id": "52fa08f6",
   "metadata": {},
   "source": [
    "## Iterator in reverse direction"
   ]
  },
  {
   "cell_type": "code",
   "execution_count": 58,
   "id": "f5056e79",
   "metadata": {},
   "outputs": [
    {
     "ename": "NameError",
     "evalue": "name 'h' is not defined",
     "output_type": "error",
     "traceback": [
      "\u001b[1;31m---------------------------------------------------------------------------\u001b[0m",
      "\u001b[1;31mNameError\u001b[0m                                 Traceback (most recent call last)",
      "\u001b[1;32mC:\\Users\\MADHU'~1\\AppData\\Local\\Temp/ipykernel_508/1645994718.py\u001b[0m in \u001b[0;36m<module>\u001b[1;34m\u001b[0m\n\u001b[0;32m     12\u001b[0m             \u001b[1;32mreturn\u001b[0m \u001b[0mi\u001b[0m\u001b[1;33m\u001b[0m\u001b[1;33m\u001b[0m\u001b[0m\n\u001b[0;32m     13\u001b[0m \u001b[1;33m\u001b[0m\u001b[0m\n\u001b[1;32m---> 14\u001b[1;33m \u001b[0miter1\u001b[0m\u001b[1;33m=\u001b[0m\u001b[0mValues\u001b[0m\u001b[1;33m(\u001b[0m\u001b[1;33m)\u001b[0m\u001b[1;33m\u001b[0m\u001b[1;33m\u001b[0m\u001b[0m\n\u001b[0m\u001b[0;32m     15\u001b[0m \u001b[0mmyiter\u001b[0m\u001b[1;33m=\u001b[0m\u001b[0miter\u001b[0m\u001b[1;33m(\u001b[0m\u001b[0miter1\u001b[0m\u001b[1;33m)\u001b[0m\u001b[1;33m\u001b[0m\u001b[1;33m\u001b[0m\u001b[0m\n\u001b[0;32m     16\u001b[0m \u001b[1;33m\u001b[0m\u001b[0m\n",
      "\u001b[1;32mC:\\Users\\MADHU'~1\\AppData\\Local\\Temp/ipykernel_508/1645994718.py\u001b[0m in \u001b[0;36m__init__\u001b[1;34m(self)\u001b[0m\n\u001b[0;32m      1\u001b[0m \u001b[1;32mclass\u001b[0m \u001b[0mValues\u001b[0m\u001b[1;33m:\u001b[0m\u001b[1;33m\u001b[0m\u001b[1;33m\u001b[0m\u001b[0m\n\u001b[0;32m      2\u001b[0m     \u001b[1;32mdef\u001b[0m \u001b[0m__init__\u001b[0m\u001b[1;33m(\u001b[0m\u001b[0mself\u001b[0m\u001b[1;33m)\u001b[0m\u001b[1;33m:\u001b[0m\u001b[1;33m\u001b[0m\u001b[1;33m\u001b[0m\u001b[0m\n\u001b[1;32m----> 3\u001b[1;33m         \u001b[0mself\u001b[0m\u001b[1;33m.\u001b[0m\u001b[0mh\u001b[0m\u001b[1;33m=\u001b[0m\u001b[0mh\u001b[0m\u001b[1;33m\u001b[0m\u001b[1;33m\u001b[0m\u001b[0m\n\u001b[0m\u001b[0;32m      4\u001b[0m \u001b[1;33m\u001b[0m\u001b[0m\n\u001b[0;32m      5\u001b[0m     \u001b[1;32mdef\u001b[0m \u001b[0m__iter__\u001b[0m\u001b[1;33m(\u001b[0m\u001b[0mself\u001b[0m\u001b[1;33m)\u001b[0m\u001b[1;33m:\u001b[0m\u001b[1;33m\u001b[0m\u001b[1;33m\u001b[0m\u001b[0m\n",
      "\u001b[1;31mNameError\u001b[0m: name 'h' is not defined"
     ]
    }
   ],
   "source": [
    "class Values:\n",
    "    def __init__(self):\n",
    "        self.h=h\n",
    "        \n",
    "    def __iter__(self):\n",
    "        self.h=0\n",
    "        \n",
    "    def __next__(self):\n",
    "        self.list1=[1,2,3,4,5,6,7,8,9]\n",
    "        h=len(self.list1)\n",
    "        for i in range(h-1,-1,-1):\n",
    "            return i\n",
    "\n",
    "iter1=Values()\n",
    "myiter=iter(iter1)\n",
    "\n"
   ]
  },
  {
   "cell_type": "markdown",
   "id": "d8ce11c4",
   "metadata": {},
   "source": [
    "\n",
    "## salary"
   ]
  },
  {
   "cell_type": "code",
   "execution_count": 27,
   "id": "4ed28cc7",
   "metadata": {},
   "outputs": [
    {
     "name": "stdout",
     "output_type": "stream",
     "text": [
      "The net salary is :\n"
     ]
    },
    {
     "data": {
      "text/plain": [
       "63"
      ]
     },
     "execution_count": 27,
     "metadata": {},
     "output_type": "execute_result"
    }
   ],
   "source": [
    "def salary(fn):\n",
    "    def net_salary(base,hra,sa):\n",
    "        fn()\n",
    "        base=30//(base) + base\n",
    "        a=base+hra+sa\n",
    "        return a\n",
    "    return nested_fn\n",
    "\n",
    "def Tax(base,hra,sa):\n",
    "    print(\"The net salary is :\" )\n",
    "    \n",
    "    return \n",
    "    \n",
    "    \n",
    "deco = decorting_fun(ordinary_fn)\n",
    "deco(10,20,30)\n",
    "\n",
    "    \n",
    "    \n",
    "    "
   ]
  },
  {
   "cell_type": "markdown",
   "id": "0674283f",
   "metadata": {},
   "source": [
    "## Changing a tuple"
   ]
  },
  {
   "cell_type": "code",
   "execution_count": 29,
   "id": "931ae082",
   "metadata": {},
   "outputs": [
    {
     "data": {
      "text/plain": [
       "(1, 2, [1, 0, 3])"
      ]
     },
     "execution_count": 29,
     "metadata": {},
     "output_type": "execute_result"
    }
   ],
   "source": [
    "## change done using list []\n",
    "\n",
    "tup1=(1,2,[1,2,3])\n",
    "tup1[2][1]=0\n",
    "tup1\n"
   ]
  },
  {
   "cell_type": "code",
   "execution_count": 34,
   "id": "47bf15a4",
   "metadata": {},
   "outputs": [
    {
     "data": {
      "text/plain": [
       "(1, 2, {1: 'hehe', 2: 'bye', 3: 'tata'})"
      ]
     },
     "execution_count": 34,
     "metadata": {},
     "output_type": "execute_result"
    }
   ],
   "source": [
    "## change done using dict\n",
    "\n",
    "tup2=(1,2,{1:'hi',2:'bye',3:'tata'})\n",
    "tup2[2][1]=\"hehe\"\n",
    "tup2"
   ]
  },
  {
   "cell_type": "code",
   "execution_count": 37,
   "id": "cd1a0fb7",
   "metadata": {},
   "outputs": [
    {
     "data": {
      "text/plain": [
       "('hi', 'bye', 'tata', 'lala')"
      ]
     },
     "execution_count": 37,
     "metadata": {},
     "output_type": "execute_result"
    }
   ],
   "source": [
    "## changing the tuple by converting the tuple to list\n",
    "\n",
    "x=\"hi\",\"bye\",\"tata\",\"hehe\"\n",
    "y=list(x)\n",
    "y[3]=\"lala\"\n",
    "x=tuple(y)\n",
    "\n",
    "x"
   ]
  },
  {
   "cell_type": "code",
   "execution_count": null,
   "id": "fba36fc4",
   "metadata": {},
   "outputs": [],
   "source": []
  }
 ],
 "metadata": {
  "kernelspec": {
   "display_name": "Python 3 (ipykernel)",
   "language": "python",
   "name": "python3"
  },
  "language_info": {
   "codemirror_mode": {
    "name": "ipython",
    "version": 3
   },
   "file_extension": ".py",
   "mimetype": "text/x-python",
   "name": "python",
   "nbconvert_exporter": "python",
   "pygments_lexer": "ipython3",
   "version": "3.9.7"
  }
 },
 "nbformat": 4,
 "nbformat_minor": 5
}
