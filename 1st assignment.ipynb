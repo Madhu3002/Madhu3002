{
 "cells": [
  {
   "cell_type": "markdown",
   "id": "3416f177",
   "metadata": {},
   "source": [
    "## Working directory"
   ]
  },
  {
   "cell_type": "code",
   "execution_count": 5,
   "id": "6480607d",
   "metadata": {},
   "outputs": [
    {
     "name": "stdout",
     "output_type": "stream",
     "text": [
      "Before:current working directory is D:\\user\\inceptez\n",
      "After:current working directory is D:\\user\\inceptez\\pythonassignment\n"
     ]
    }
   ],
   "source": [
    "import os\n",
    "import sys\n",
    "print(\"Before:current working directory is\", os.getcwd())\n",
    "path=\"D:/user/inceptez/pythonassignment\"\n",
    "os.chdir(path)\n",
    "print(\"After:current working directory is\", os.getcwd())"
   ]
  },
  {
   "cell_type": "markdown",
   "id": "44c239e9",
   "metadata": {},
   "source": [
    "## Create the string, int and float variable and delete them all in the next cell"
   ]
  },
  {
   "cell_type": "code",
   "execution_count": 8,
   "id": "6f9accc5",
   "metadata": {},
   "outputs": [
    {
     "name": "stdout",
     "output_type": "stream",
     "text": [
      "30101994\n",
      "3.14\n",
      "haha\n"
     ]
    },
    {
     "ename": "NameError",
     "evalue": "name 'a' is not defined",
     "output_type": "error",
     "traceback": [
      "\u001b[1;31m---------------------------------------------------------------------------\u001b[0m",
      "\u001b[1;31mNameError\u001b[0m                                 Traceback (most recent call last)",
      "\u001b[1;32mC:\\Users\\MADHU'~1\\AppData\\Local\\Temp/ipykernel_10100/3184861171.py\u001b[0m in \u001b[0;36m<module>\u001b[1;34m\u001b[0m\n\u001b[0;32m     18\u001b[0m \u001b[1;33m\u001b[0m\u001b[0m\n\u001b[0;32m     19\u001b[0m \u001b[1;33m\u001b[0m\u001b[0m\n\u001b[1;32m---> 20\u001b[1;33m \u001b[0mprint\u001b[0m\u001b[1;33m(\u001b[0m\u001b[0ma\u001b[0m\u001b[1;33m)\u001b[0m\u001b[1;33m\u001b[0m\u001b[1;33m\u001b[0m\u001b[0m\n\u001b[0m\u001b[0;32m     21\u001b[0m \u001b[0mprint\u001b[0m\u001b[1;33m(\u001b[0m\u001b[0mPi\u001b[0m\u001b[1;33m)\u001b[0m\u001b[1;33m\u001b[0m\u001b[1;33m\u001b[0m\u001b[0m\n\u001b[0;32m     22\u001b[0m \u001b[0mprint\u001b[0m\u001b[1;33m(\u001b[0m\u001b[0mb\u001b[0m\u001b[1;33m)\u001b[0m\u001b[1;33m\u001b[0m\u001b[1;33m\u001b[0m\u001b[0m\n",
      "\u001b[1;31mNameError\u001b[0m: name 'a' is not defined"
     ]
    }
   ],
   "source": [
    "##interger variable\n",
    "\n",
    "a=30101994\n",
    "\n",
    "##float variable\n",
    "\n",
    "Pi=3.14\n",
    "\n",
    "##string variable\n",
    "\n",
    "b=\"haha\"\n",
    "\n",
    "print(a)\n",
    "print(Pi)\n",
    "print(b)\n",
    "\n",
    "del(a,Pi,b)\n",
    "\n",
    "##post deletion nothings gets printed\n",
    "print(a)\n",
    "print(Pi)\n",
    "print(b)\n"
   ]
  },
  {
   "cell_type": "markdown",
   "id": "878257b3",
   "metadata": {},
   "source": [
    "## Result of assigning a value to a ‘keyword’"
   ]
  },
  {
   "cell_type": "code",
   "execution_count": 14,
   "id": "1d5baf15",
   "metadata": {},
   "outputs": [
    {
     "ename": "SyntaxError",
     "evalue": "invalid syntax (Temp/ipykernel_10100/2955683875.py, line 2)",
     "output_type": "error",
     "traceback": [
      "\u001b[1;36m  File \u001b[1;32m\"C:\\Users\\MADHU'~1\\AppData\\Local\\Temp/ipykernel_10100/2955683875.py\"\u001b[1;36m, line \u001b[1;32m2\u001b[0m\n\u001b[1;33m    print(import)\u001b[0m\n\u001b[1;37m          ^\u001b[0m\n\u001b[1;31mSyntaxError\u001b[0m\u001b[1;31m:\u001b[0m invalid syntax\n"
     ]
    }
   ],
   "source": [
    "## invalid syntax error. Keyword cannot be used as a variable name/ for assigning values.\n",
    "\n",
    "list=123\n",
    "print(import)"
   ]
  },
  {
   "cell_type": "markdown",
   "id": "bef67144",
   "metadata": {},
   "source": [
    "## How to write a multi-line statement and assign it to a variable "
   ]
  },
  {
   "cell_type": "code",
   "execution_count": 17,
   "id": "acdc76d2",
   "metadata": {},
   "outputs": [
    {
     "name": "stdout",
     "output_type": "stream",
     "text": [
      "Lets explore the world\n",
      "Life is all about experience\n"
     ]
    }
   ],
   "source": [
    "name=\"\"\"Lets explore the world\n",
    "Life is all about experience\"\"\"\n",
    "print(name)"
   ]
  },
  {
   "cell_type": "markdown",
   "id": "4f7b8910",
   "metadata": {},
   "source": [
    "# Print the list of numbers from 100 to 999 with an interval (step size) of 8 between the numbers"
   ]
  },
  {
   "cell_type": "code",
   "execution_count": 18,
   "id": "f4f9a2f3",
   "metadata": {},
   "outputs": [
    {
     "data": {
      "text/plain": [
       "[100,\n",
       " 108,\n",
       " 116,\n",
       " 124,\n",
       " 132,\n",
       " 140,\n",
       " 148,\n",
       " 156,\n",
       " 164,\n",
       " 172,\n",
       " 180,\n",
       " 188,\n",
       " 196,\n",
       " 204,\n",
       " 212,\n",
       " 220,\n",
       " 228,\n",
       " 236,\n",
       " 244,\n",
       " 252,\n",
       " 260,\n",
       " 268,\n",
       " 276,\n",
       " 284,\n",
       " 292,\n",
       " 300,\n",
       " 308,\n",
       " 316,\n",
       " 324,\n",
       " 332,\n",
       " 340,\n",
       " 348,\n",
       " 356,\n",
       " 364,\n",
       " 372,\n",
       " 380,\n",
       " 388,\n",
       " 396,\n",
       " 404,\n",
       " 412,\n",
       " 420,\n",
       " 428,\n",
       " 436,\n",
       " 444,\n",
       " 452,\n",
       " 460,\n",
       " 468,\n",
       " 476,\n",
       " 484,\n",
       " 492,\n",
       " 500,\n",
       " 508,\n",
       " 516,\n",
       " 524,\n",
       " 532,\n",
       " 540,\n",
       " 548,\n",
       " 556,\n",
       " 564,\n",
       " 572,\n",
       " 580,\n",
       " 588,\n",
       " 596,\n",
       " 604,\n",
       " 612,\n",
       " 620,\n",
       " 628,\n",
       " 636,\n",
       " 644,\n",
       " 652,\n",
       " 660,\n",
       " 668,\n",
       " 676,\n",
       " 684,\n",
       " 692,\n",
       " 700,\n",
       " 708,\n",
       " 716,\n",
       " 724,\n",
       " 732,\n",
       " 740,\n",
       " 748,\n",
       " 756,\n",
       " 764,\n",
       " 772,\n",
       " 780,\n",
       " 788,\n",
       " 796,\n",
       " 804,\n",
       " 812,\n",
       " 820,\n",
       " 828,\n",
       " 836,\n",
       " 844,\n",
       " 852,\n",
       " 860,\n",
       " 868,\n",
       " 876,\n",
       " 884,\n",
       " 892,\n",
       " 900,\n",
       " 908,\n",
       " 916,\n",
       " 924,\n",
       " 932,\n",
       " 940,\n",
       " 948,\n",
       " 956,\n",
       " 964,\n",
       " 972,\n",
       " 980,\n",
       " 988,\n",
       " 996]"
      ]
     },
     "execution_count": 18,
     "metadata": {},
     "output_type": "execute_result"
    }
   ],
   "source": [
    "list(range(100,999,8))"
   ]
  },
  {
   "cell_type": "markdown",
   "id": "31ab4ddc",
   "metadata": {},
   "source": [
    "# Write a “for” loop to print out the ‘n’ values and break out of the statement if the value is ‘n/2’"
   ]
  },
  {
   "cell_type": "code",
   "execution_count": 41,
   "id": "ce0a5858",
   "metadata": {},
   "outputs": [
    {
     "name": "stdout",
     "output_type": "stream",
     "text": [
      "1\n",
      "2\n",
      "3\n",
      "4\n",
      "5\n",
      "6\n",
      "7\n",
      "8\n",
      "9\n"
     ]
    }
   ],
   "source": [
    "def func(n):\n",
    "    for n in range(1,10):\n",
    "        if n == (n/2):\n",
    "            break\n",
    "            \n",
    "        else:\n",
    "            print(n)\n",
    "func(3)\n"
   ]
  },
  {
   "cell_type": "markdown",
   "id": "54e9cad1",
   "metadata": {},
   "source": [
    "## Write a simple function and call the docstring from outside the function"
   ]
  },
  {
   "cell_type": "code",
   "execution_count": 86,
   "id": "166a2e9b",
   "metadata": {},
   "outputs": [
    {
     "name": "stdout",
     "output_type": "stream",
     "text": [
      "18\n"
     ]
    }
   ],
   "source": [
    "def add(x,y):\n",
    "    \n",
    "    \"\"\"addition program let's have fun with addition\"\"\"\n",
    "    \n",
    "    a=x+y\n",
    "    print(a)\n",
    "    \n",
    "add(3,15)\n"
   ]
  },
  {
   "cell_type": "code",
   "execution_count": 82,
   "id": "802be3fb",
   "metadata": {},
   "outputs": [
    {
     "name": "stdout",
     "output_type": "stream",
     "text": [
      "addition program let's have fun with addition\n"
     ]
    }
   ],
   "source": [
    "print(add.__doc__)"
   ]
  },
  {
   "cell_type": "markdown",
   "id": "c37cfd58",
   "metadata": {},
   "source": [
    "## Area of triangle"
   ]
  },
  {
   "cell_type": "code",
   "execution_count": 107,
   "id": "50ad3434",
   "metadata": {},
   "outputs": [],
   "source": [
    "from mypackage import mydata"
   ]
  },
  {
   "cell_type": "code",
   "execution_count": 132,
   "id": "72e06cce",
   "metadata": {},
   "outputs": [
    {
     "name": "stdout",
     "output_type": "stream",
     "text": [
      "The perimeter of the triangle is  41.5\n",
      "area of triangle is  (3.097937745838546e-14+505.93162828587816j)\n"
     ]
    }
   ],
   "source": [
    "def peri():\n",
    "    s=((mydata.x+mydata.y+mydata.z)/2)\n",
    "    print(\"The perimeter of the triangle is \",s)\n",
    "    ar(s)\n",
    "        \n",
    "def ar(s):\n",
    "    c=((s*(s-mydata.x)*(s-mydata.y)*(s-mydata.z))** 0.5)\n",
    "    print(\"area of triangle is \",c)\n",
    "\n",
    "peri()\n",
    "        \n",
    "        \n"
   ]
  },
  {
   "cell_type": "markdown",
   "id": "93a6000c",
   "metadata": {},
   "source": [
    "## List comprehension to print the odd numbers from 0 to 100"
   ]
  },
  {
   "cell_type": "code",
   "execution_count": 15,
   "id": "22ebee87",
   "metadata": {},
   "outputs": [
    {
     "name": "stdout",
     "output_type": "stream",
     "text": [
      "[1, 3, 5, 7, 9, 11, 13, 15, 17, 19, 21, 23, 25, 27, 29, 31, 33, 35, 37, 39, 41, 43, 45, 47, 49, 51, 53, 55, 57, 59, 61, 63, 65, 67, 69, 71, 73, 75, 77, 79, 81, 83, 85, 87, 89, 91, 93, 95, 97, 99]\n"
     ]
    }
   ],
   "source": [
    "oddnum= [a for a in range(0,101) if a%2!=0]\n",
    "print(oddnum)  \n",
    "    "
   ]
  },
  {
   "cell_type": "markdown",
   "id": "914c5e9f",
   "metadata": {},
   "source": [
    "## Name without vowels"
   ]
  },
  {
   "cell_type": "code",
   "execution_count": 18,
   "id": "17a09055",
   "metadata": {},
   "outputs": [
    {
     "name": "stdout",
     "output_type": "stream",
     "text": [
      "['M', 'D', 'H', 'B', 'L']\n"
     ]
    }
   ],
   "source": [
    "name='MADHUBALA'\n",
    "vowels='AEIOU'\n",
    "n1=[a for a in name if a not in vowels]\n",
    "print(n1)"
   ]
  },
  {
   "cell_type": "code",
   "execution_count": null,
   "id": "bccf54ca",
   "metadata": {},
   "outputs": [],
   "source": []
  }
 ],
 "metadata": {
  "kernelspec": {
   "display_name": "Python 3 (ipykernel)",
   "language": "python",
   "name": "python3"
  },
  "language_info": {
   "codemirror_mode": {
    "name": "ipython",
    "version": 3
   },
   "file_extension": ".py",
   "mimetype": "text/x-python",
   "name": "python",
   "nbconvert_exporter": "python",
   "pygments_lexer": "ipython3",
   "version": "3.9.7"
  }
 },
 "nbformat": 4,
 "nbformat_minor": 5
}
