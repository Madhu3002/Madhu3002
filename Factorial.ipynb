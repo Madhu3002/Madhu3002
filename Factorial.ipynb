{
 "cells": [
  {
   "cell_type": "markdown",
   "id": "dc5e472e",
   "metadata": {},
   "source": [
    "## Factorial"
   ]
  },
  {
   "cell_type": "code",
   "execution_count": 11,
   "id": "fa5ac3ac",
   "metadata": {},
   "outputs": [
    {
     "name": "stdout",
     "output_type": "stream",
     "text": [
      "Factorial of given number is  720\n"
     ]
    }
   ],
   "source": [
    "def func(x):\n",
    "    if (x==1):\n",
    "        return 1\n",
    "    else:\n",
    "        return (x*func(x-1))\n",
    "\n",
    "\n",
    "print('Factorial of given number is ',func(6))\n",
    "    "
   ]
  },
  {
   "cell_type": "code",
   "execution_count": null,
   "id": "63d81926",
   "metadata": {},
   "outputs": [],
   "source": []
  }
 ],
 "metadata": {
  "kernelspec": {
   "display_name": "Python 3 (ipykernel)",
   "language": "python",
   "name": "python3"
  },
  "language_info": {
   "codemirror_mode": {
    "name": "ipython",
    "version": 3
   },
   "file_extension": ".py",
   "mimetype": "text/x-python",
   "name": "python",
   "nbconvert_exporter": "python",
   "pygments_lexer": "ipython3",
   "version": "3.9.7"
  }
 },
 "nbformat": 4,
 "nbformat_minor": 5
}
