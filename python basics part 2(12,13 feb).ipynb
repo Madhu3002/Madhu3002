{
 "cells": [
  {
   "cell_type": "markdown",
   "id": "7b54b924",
   "metadata": {},
   "source": [
    "## Data type conversion\n"
   ]
  },
  {
   "cell_type": "code",
   "execution_count": null,
   "id": "2853a3a9",
   "metadata": {},
   "outputs": [],
   "source": [
    "float(10)\n"
   ]
  },
  {
   "cell_type": "code",
   "execution_count": 2,
   "id": "bc4f9b2d",
   "metadata": {},
   "outputs": [
    {
     "data": {
      "text/plain": [
       "10"
      ]
     },
     "execution_count": 2,
     "metadata": {},
     "output_type": "execute_result"
    }
   ],
   "source": [
    "int(10.5)\n"
   ]
  },
  {
   "cell_type": "code",
   "execution_count": 3,
   "id": "346539ac",
   "metadata": {},
   "outputs": [
    {
     "data": {
      "text/plain": [
       "5.5"
      ]
     },
     "execution_count": 3,
     "metadata": {},
     "output_type": "execute_result"
    }
   ],
   "source": [
    "float('5.5')"
   ]
  },
  {
   "cell_type": "code",
   "execution_count": 4,
   "id": "6c111346",
   "metadata": {},
   "outputs": [
    {
     "data": {
      "text/plain": [
       "'20'"
      ]
     },
     "execution_count": 4,
     "metadata": {},
     "output_type": "execute_result"
    }
   ],
   "source": [
    "str(20)"
   ]
  },
  {
   "cell_type": "markdown",
   "id": "8adbe6c2",
   "metadata": {},
   "source": [
    "## Conversion of sequences from one to another"
   ]
  },
  {
   "cell_type": "code",
   "execution_count": 5,
   "id": "82da767e",
   "metadata": {},
   "outputs": [
    {
     "data": {
      "text/plain": [
       "{1, 2, 5, 7}"
      ]
     },
     "execution_count": 5,
     "metadata": {},
     "output_type": "execute_result"
    }
   ],
   "source": [
    "set([1, 2, 5, 7, 7])"
   ]
  },
  {
   "cell_type": "code",
   "execution_count": 6,
   "id": "86409bdc",
   "metadata": {},
   "outputs": [
    {
     "data": {
      "text/plain": [
       "(81, 68, 5)"
      ]
     },
     "execution_count": 6,
     "metadata": {},
     "output_type": "execute_result"
    }
   ],
   "source": [
    "tuple({5, 81, 68, 68})"
   ]
  },
  {
   "cell_type": "code",
   "execution_count": 7,
   "id": "146d739c",
   "metadata": {},
   "outputs": [
    {
     "data": {
      "text/plain": [
       "['W', 'O', 'R', 'D']"
      ]
     },
     "execution_count": 7,
     "metadata": {},
     "output_type": "execute_result"
    }
   ],
   "source": [
    "list('WORD')"
   ]
  },
  {
   "cell_type": "code",
   "execution_count": 8,
   "id": "b9c38b84",
   "metadata": {},
   "outputs": [
    {
     "name": "stdout",
     "output_type": "stream",
     "text": [
      "{'Name': 'John', 10: 50}\n"
     ]
    }
   ],
   "source": [
    "print(dict([[\"Name\", \"John\"], [10, 50]]))"
   ]
  },
  {
   "cell_type": "markdown",
   "id": "37859ef9",
   "metadata": {},
   "source": [
    "## Type conversion"
   ]
  },
  {
   "cell_type": "markdown",
   "id": "f10d61ac",
   "metadata": {},
   "source": [
    "## \n",
    "Implicit conversion\n",
    "and \n",
    "Explicit conversion"
   ]
  },
  {
   "cell_type": "code",
   "execution_count": 9,
   "id": "102769be",
   "metadata": {},
   "outputs": [
    {
     "name": "stdout",
     "output_type": "stream",
     "text": [
      "Datatype of int_var is:  <class 'int'>\n",
      "Datatype of float_var is:  <class 'float'>\n",
      "The new value after conversion is:  642.7\n",
      "Datatype of conversion1 is:  <class 'float'>\n"
     ]
    }
   ],
   "source": [
    "int_var = 587\n",
    "float_var = 55.7\n",
    "\n",
    "conversion1 = int_var + float_var\n",
    "\n",
    "print('Datatype of int_var is: ', type(int_var))\n",
    "print('Datatype of float_var is: ', type(float_var))\n",
    "print('The new value after conversion is: ', conversion1)\n",
    "print('Datatype of conversion1 is: ', type(conversion1))"
   ]
  },
  {
   "cell_type": "code",
   "execution_count": 10,
   "id": "591058f1",
   "metadata": {},
   "outputs": [
    {
     "ename": "TypeError",
     "evalue": "unsupported operand type(s) for +: 'int' and 'str'",
     "output_type": "error",
     "traceback": [
      "\u001b[1;31m---------------------------------------------------------------------------\u001b[0m",
      "\u001b[1;31mTypeError\u001b[0m                                 Traceback (most recent call last)",
      "\u001b[1;32mC:\\Users\\MADHU'~1\\AppData\\Local\\Temp/ipykernel_17952/1440965163.py\u001b[0m in \u001b[0;36m<module>\u001b[1;34m\u001b[0m\n\u001b[0;32m      2\u001b[0m \u001b[0mstring_var\u001b[0m \u001b[1;33m=\u001b[0m \u001b[1;34m\"55.7\"\u001b[0m\u001b[1;33m\u001b[0m\u001b[1;33m\u001b[0m\u001b[0m\n\u001b[0;32m      3\u001b[0m \u001b[1;33m\u001b[0m\u001b[0m\n\u001b[1;32m----> 4\u001b[1;33m \u001b[0mconversion1\u001b[0m \u001b[1;33m=\u001b[0m \u001b[0mint_var\u001b[0m \u001b[1;33m+\u001b[0m \u001b[0mstring_var\u001b[0m\u001b[1;33m\u001b[0m\u001b[1;33m\u001b[0m\u001b[0m\n\u001b[0m\u001b[0;32m      5\u001b[0m \u001b[1;33m\u001b[0m\u001b[0m\n\u001b[0;32m      6\u001b[0m \u001b[0mprint\u001b[0m\u001b[1;33m(\u001b[0m\u001b[1;34m'Datatype of int_var is: '\u001b[0m\u001b[1;33m,\u001b[0m \u001b[0mtype\u001b[0m\u001b[1;33m(\u001b[0m\u001b[0mint_var\u001b[0m\u001b[1;33m)\u001b[0m\u001b[1;33m)\u001b[0m\u001b[1;33m\u001b[0m\u001b[1;33m\u001b[0m\u001b[0m\n",
      "\u001b[1;31mTypeError\u001b[0m: unsupported operand type(s) for +: 'int' and 'str'"
     ]
    }
   ],
   "source": [
    "int_var = 587\n",
    "string_var = \"55.7\"\n",
    "\n",
    "conversion1 = int_var + string_var\n",
    "\n",
    "print('Datatype of int_var is: ', type(int_var))\n",
    "print('Datatype of string_var is: ', type(float_var))\n",
    "print('The new value after conversion is: ', conversion1)\n",
    "print('Datatype of conversion1 is: ', type(conversion1))"
   ]
  },
  {
   "cell_type": "code",
   "execution_count": 11,
   "id": "fd187e8f",
   "metadata": {},
   "outputs": [
    {
     "name": "stdout",
     "output_type": "stream",
     "text": [
      "Datatype of int_var is:  <class 'int'>\n",
      "Datatype of string_var is:  <class 'float'>\n",
      "The new value after conversion is:  642.7\n",
      "Datatype of conversion1 is:  <class 'float'>\n"
     ]
    }
   ],
   "source": [
    "int_var = 587\n",
    "string_var = \"55.7\"\n",
    "\n",
    "conversion1 =  float(string_var) + (int_var )\n",
    "\n",
    "print('Datatype of int_var is: ', type(int_var))\n",
    "print('Datatype of string_var is: ', type(float_var))\n",
    "print('The new value after conversion is: ', conversion1)\n",
    "print('Datatype of conversion1 is: ', type(conversion1))"
   ]
  },
  {
   "cell_type": "markdown",
   "id": "4cd64db2",
   "metadata": {},
   "source": [
    "## Input"
   ]
  },
  {
   "cell_type": "code",
   "execution_count": 12,
   "id": "23b7ec03",
   "metadata": {},
   "outputs": [
    {
     "name": "stdout",
     "output_type": "stream",
     "text": [
      "Enter the first number: 1\n",
      "Enter the second number: 5\n",
      "15\n"
     ]
    }
   ],
   "source": [
    "num = input('Enter the first number: ')\n",
    "num1 = input('Enter the second number: ')\n",
    "\n",
    "\n",
    "add = num + num1\n",
    "print(add)"
   ]
  },
  {
   "cell_type": "code",
   "execution_count": 13,
   "id": "1b1825da",
   "metadata": {},
   "outputs": [
    {
     "name": "stdout",
     "output_type": "stream",
     "text": [
      "18\n"
     ]
    }
   ],
   "source": [
    "a = eval('10+8')\n",
    "print(a)"
   ]
  },
  {
   "cell_type": "markdown",
   "id": "54ff6f51",
   "metadata": {},
   "source": [
    "## operators:"
   ]
  },
  {
   "cell_type": "code",
   "execution_count": 15,
   "id": "e3908f41",
   "metadata": {},
   "outputs": [
    {
     "name": "stdout",
     "output_type": "stream",
     "text": [
      "14\n",
      "6\n",
      "40\n",
      "2.5\n",
      "2\n",
      "10000\n",
      "2\n"
     ]
    }
   ],
   "source": [
    "x = 10\n",
    "y = 4\n",
    "\n",
    "print(x + y)\n",
    "print(x - y)\n",
    "print(x * y)\n",
    "print(x/y)\n",
    "print((x//y))\n",
    "print(x**y)\n",
    "print(x%y)"
   ]
  },
  {
   "cell_type": "code",
   "execution_count": 16,
   "id": "220f7ef2",
   "metadata": {},
   "outputs": [
    {
     "data": {
      "text/plain": [
       "3"
      ]
     },
     "execution_count": 16,
     "metadata": {},
     "output_type": "execute_result"
    }
   ],
   "source": [
    "round(2.8)"
   ]
  },
  {
   "cell_type": "markdown",
   "id": "b2e5659b",
   "metadata": {},
   "source": [
    "## Logical operator"
   ]
  },
  {
   "cell_type": "code",
   "execution_count": 18,
   "id": "96731600",
   "metadata": {},
   "outputs": [
    {
     "name": "stdout",
     "output_type": "stream",
     "text": [
      "False\n",
      "True\n",
      "False\n",
      "True\n",
      "False\n"
     ]
    }
   ],
   "source": [
    "x = True\n",
    "y = False\n",
    "z = True\n",
    "\n",
    "print(x and y)\n",
    "print(x or y)\n",
    "print(not x)\n",
    "print( not y)\n",
    "print( not z)"
   ]
  },
  {
   "cell_type": "markdown",
   "id": "1ea7cf1d",
   "metadata": {},
   "source": [
    "## Assignment operator"
   ]
  },
  {
   "cell_type": "code",
   "execution_count": 19,
   "id": "7c860a32",
   "metadata": {},
   "outputs": [],
   "source": [
    "x1 = 15\n",
    "y1 = 15\n",
    "\n",
    "x2 = 'Hello'\n",
    "y2 = 'Hello'\n",
    "\n",
    "x3 = [15, 2, 3]\n",
    "y3 = [15, 2, 3]\n",
    "\n",
    "x4 = (1, 2, 3)\n",
    "y4 = (1, 2, 3)\n",
    "\n",
    "x5 = {1, 5, 8}\n",
    "y5 = {1, 5, 8}"
   ]
  },
  {
   "cell_type": "code",
   "execution_count": 20,
   "id": "a7bd3485",
   "metadata": {},
   "outputs": [
    {
     "name": "stdout",
     "output_type": "stream",
     "text": [
      "True\n"
     ]
    }
   ],
   "source": [
    "print(x1 is y1)\n",
    "# print(x1 is not y1)"
   ]
  },
  {
   "cell_type": "code",
   "execution_count": 21,
   "id": "436b399c",
   "metadata": {},
   "outputs": [
    {
     "name": "stdout",
     "output_type": "stream",
     "text": [
      "True\n"
     ]
    }
   ],
   "source": [
    "print(x2 is y2)"
   ]
  },
  {
   "cell_type": "code",
   "execution_count": 22,
   "id": "7354cc01",
   "metadata": {},
   "outputs": [
    {
     "name": "stdout",
     "output_type": "stream",
     "text": [
      "False\n"
     ]
    }
   ],
   "source": [
    "print(x3 is y3)"
   ]
  },
  {
   "cell_type": "code",
   "execution_count": 23,
   "id": "94d7a433",
   "metadata": {},
   "outputs": [
    {
     "name": "stdout",
     "output_type": "stream",
     "text": [
      "False\n"
     ]
    }
   ],
   "source": [
    "print(x4 is y4)"
   ]
  },
  {
   "cell_type": "code",
   "execution_count": 24,
   "id": "5da314c2",
   "metadata": {},
   "outputs": [
    {
     "name": "stdout",
     "output_type": "stream",
     "text": [
      "False\n"
     ]
    }
   ],
   "source": [
    "print(x5 is y5)"
   ]
  },
  {
   "cell_type": "code",
   "execution_count": 25,
   "id": "6d9adfa3",
   "metadata": {},
   "outputs": [
    {
     "data": {
      "text/plain": [
       "(1527041649392, 1527041649392)"
      ]
     },
     "execution_count": 25,
     "metadata": {},
     "output_type": "execute_result"
    }
   ],
   "source": [
    "id(x1), id(y1)"
   ]
  },
  {
   "cell_type": "code",
   "execution_count": 26,
   "id": "a1a4a68d",
   "metadata": {},
   "outputs": [
    {
     "data": {
      "text/plain": [
       "(1527122616688, 1527122616688)"
      ]
     },
     "execution_count": 26,
     "metadata": {},
     "output_type": "execute_result"
    }
   ],
   "source": [
    "id(x2), id(y2)"
   ]
  },
  {
   "cell_type": "code",
   "execution_count": 27,
   "id": "9ae204f6",
   "metadata": {},
   "outputs": [
    {
     "data": {
      "text/plain": [
       "(1527122824000, 1527122823808)"
      ]
     },
     "execution_count": 27,
     "metadata": {},
     "output_type": "execute_result"
    }
   ],
   "source": [
    "id(x3), id(y3)"
   ]
  },
  {
   "cell_type": "code",
   "execution_count": 28,
   "id": "14eb4f86",
   "metadata": {},
   "outputs": [
    {
     "data": {
      "text/plain": [
       "(1527041649392, 1527041649392)"
      ]
     },
     "execution_count": 28,
     "metadata": {},
     "output_type": "execute_result"
    }
   ],
   "source": [
    "id(x3[0]), id(y3[0])"
   ]
  },
  {
   "cell_type": "markdown",
   "id": "dc3a05f0",
   "metadata": {},
   "source": [
    "## Membership Operators"
   ]
  },
  {
   "cell_type": "code",
   "execution_count": 31,
   "id": "d9c82d5d",
   "metadata": {},
   "outputs": [],
   "source": [
    "x = 'Hello world'\n",
    "y = {10: 'a', 12: 'b', 10:'d', 12:'l'}"
   ]
  },
  {
   "cell_type": "code",
   "execution_count": 30,
   "id": "9130a901",
   "metadata": {},
   "outputs": [
    {
     "data": {
      "text/plain": [
       "'l'"
      ]
     },
     "execution_count": 30,
     "metadata": {},
     "output_type": "execute_result"
    }
   ],
   "source": [
    "y[12]"
   ]
  },
  {
   "cell_type": "code",
   "execution_count": 32,
   "id": "d95fa187",
   "metadata": {},
   "outputs": [
    {
     "name": "stdout",
     "output_type": "stream",
     "text": [
      "True\n"
     ]
    }
   ],
   "source": [
    "print('H' in x)"
   ]
  },
  {
   "cell_type": "code",
   "execution_count": 33,
   "id": "0522503b",
   "metadata": {},
   "outputs": [
    {
     "name": "stdout",
     "output_type": "stream",
     "text": [
      "True\n"
     ]
    }
   ],
   "source": [
    "print('hello' not in x)"
   ]
  },
  {
   "cell_type": "code",
   "execution_count": 34,
   "id": "16d9f89c",
   "metadata": {},
   "outputs": [
    {
     "name": "stdout",
     "output_type": "stream",
     "text": [
      "True\n"
     ]
    }
   ],
   "source": [
    "print(10 in y)"
   ]
  },
  {
   "cell_type": "code",
   "execution_count": 35,
   "id": "c969edc9",
   "metadata": {},
   "outputs": [
    {
     "name": "stdout",
     "output_type": "stream",
     "text": [
      "False\n"
     ]
    }
   ],
   "source": [
    "print('a' in y)"
   ]
  },
  {
   "cell_type": "markdown",
   "id": "0992ba49",
   "metadata": {},
   "source": [
    "## if statement"
   ]
  },
  {
   "cell_type": "code",
   "execution_count": 36,
   "id": "0b373f3e",
   "metadata": {},
   "outputs": [
    {
     "name": "stdout",
     "output_type": "stream",
     "text": [
      "Enter the value:-5\n",
      "Negative\n"
     ]
    }
   ],
   "source": [
    "num = int(input('Enter the value:'))\n",
    "\n",
    "if num >= 0:\n",
    "    print('Positive')\n",
    "else:\n",
    "    print('Negative')"
   ]
  },
  {
   "cell_type": "markdown",
   "id": "142e54d6",
   "metadata": {},
   "source": [
    "## If else"
   ]
  },
  {
   "cell_type": "code",
   "execution_count": 38,
   "id": "3f0c873f",
   "metadata": {},
   "outputs": [
    {
     "name": "stdout",
     "output_type": "stream",
     "text": [
      "Enter the value:-7\n",
      "Negative\n"
     ]
    }
   ],
   "source": [
    "num = int(input('Enter the value:'))\n",
    "\n",
    "if num > 0:\n",
    "    print('Positive')\n",
    "elif num == 0: #else if\n",
    "    print('Zero')\n",
    "else:\n",
    "    print('Negative')"
   ]
  },
  {
   "cell_type": "markdown",
   "id": "50ab820f",
   "metadata": {},
   "source": [
    "## Nested if"
   ]
  },
  {
   "cell_type": "code",
   "execution_count": 40,
   "id": "7bf87104",
   "metadata": {},
   "outputs": [
    {
     "name": "stdout",
     "output_type": "stream",
     "text": [
      "Enter the value:-2\n",
      "Negative\n"
     ]
    }
   ],
   "source": [
    "num = int(input('Enter the value:'))\n",
    "\n",
    "if num >= 0:\n",
    "    if num == 0:\n",
    "        print('Zero')\n",
    "    else:\n",
    "        print('Positive')\n",
    "else:\n",
    "    print('Negative')"
   ]
  },
  {
   "cell_type": "markdown",
   "id": "32b85d5a",
   "metadata": {},
   "source": [
    "## For loop"
   ]
  },
  {
   "cell_type": "code",
   "execution_count": 41,
   "id": "f212752d",
   "metadata": {},
   "outputs": [],
   "source": [
    "# list = [1, 2, 3, 4, 5]"
   ]
  },
  {
   "cell_type": "code",
   "execution_count": 42,
   "id": "fd37dd89",
   "metadata": {},
   "outputs": [
    {
     "data": {
      "text/plain": [
       "['Kolkata', 'Delhi', 'Chennai']"
      ]
     },
     "execution_count": 42,
     "metadata": {},
     "output_type": "execute_result"
    }
   ],
   "source": [
    "list({'Delhi', 'Chennai', 'Kolkata'})"
   ]
  },
  {
   "cell_type": "code",
   "execution_count": 43,
   "id": "30851f3b",
   "metadata": {},
   "outputs": [
    {
     "ename": "NameError",
     "evalue": "name 'list' is not defined",
     "output_type": "error",
     "traceback": [
      "\u001b[1;31m---------------------------------------------------------------------------\u001b[0m",
      "\u001b[1;31mNameError\u001b[0m                                 Traceback (most recent call last)",
      "\u001b[1;32mC:\\Users\\MADHU'~1\\AppData\\Local\\Temp/ipykernel_17952/1434777336.py\u001b[0m in \u001b[0;36m<module>\u001b[1;34m\u001b[0m\n\u001b[1;32m----> 1\u001b[1;33m \u001b[1;32mdel\u001b[0m \u001b[0mlist\u001b[0m\u001b[1;33m\u001b[0m\u001b[1;33m\u001b[0m\u001b[0m\n\u001b[0m",
      "\u001b[1;31mNameError\u001b[0m: name 'list' is not defined"
     ]
    }
   ],
   "source": [
    "del list"
   ]
  },
  {
   "cell_type": "code",
   "execution_count": 44,
   "id": "9bf1c95a",
   "metadata": {},
   "outputs": [
    {
     "ename": "NameError",
     "evalue": "name 'list1' is not defined",
     "output_type": "error",
     "traceback": [
      "\u001b[1;31m---------------------------------------------------------------------------\u001b[0m",
      "\u001b[1;31mNameError\u001b[0m                                 Traceback (most recent call last)",
      "\u001b[1;32mC:\\Users\\MADHU'~1\\AppData\\Local\\Temp/ipykernel_17952/1498926805.py\u001b[0m in \u001b[0;36m<module>\u001b[1;34m\u001b[0m\n\u001b[1;32m----> 1\u001b[1;33m \u001b[0mlist1\u001b[0m\u001b[1;33m[\u001b[0m\u001b[1;33m{\u001b[0m\u001b[1;33m}\u001b[0m\u001b[1;33m]\u001b[0m\u001b[1;33m\u001b[0m\u001b[1;33m\u001b[0m\u001b[0m\n\u001b[0m",
      "\u001b[1;31mNameError\u001b[0m: name 'list1' is not defined"
     ]
    }
   ],
   "source": [
    "list1[{}]"
   ]
  },
  {
   "cell_type": "code",
   "execution_count": 45,
   "id": "8a1aae05",
   "metadata": {},
   "outputs": [],
   "source": [
    "list1 = [5, 6, 8, 10]"
   ]
  },
  {
   "cell_type": "code",
   "execution_count": 46,
   "id": "be2f9b38",
   "metadata": {},
   "outputs": [
    {
     "data": {
      "text/plain": [
       "8"
      ]
     },
     "execution_count": 46,
     "metadata": {},
     "output_type": "execute_result"
    }
   ],
   "source": [
    "list1[2]"
   ]
  },
  {
   "cell_type": "code",
   "execution_count": 47,
   "id": "32bd0bc9",
   "metadata": {},
   "outputs": [
    {
     "data": {
      "text/plain": [
       "list[2]"
      ]
     },
     "execution_count": 47,
     "metadata": {},
     "output_type": "execute_result"
    }
   ],
   "source": [
    "list[2]"
   ]
  },
  {
   "cell_type": "code",
   "execution_count": 50,
   "id": "e801e048",
   "metadata": {},
   "outputs": [],
   "source": [
    "list1[0] = 10"
   ]
  },
  {
   "cell_type": "code",
   "execution_count": 51,
   "id": "0aba4e74",
   "metadata": {},
   "outputs": [
    {
     "data": {
      "text/plain": [
       "[10, 6, 8, 10]"
      ]
     },
     "execution_count": 51,
     "metadata": {},
     "output_type": "execute_result"
    }
   ],
   "source": [
    "list1"
   ]
  },
  {
   "cell_type": "code",
   "execution_count": 52,
   "id": "ee6c2f7d",
   "metadata": {},
   "outputs": [
    {
     "data": {
      "text/plain": [
       "[1, 52, 32]"
      ]
     },
     "execution_count": 52,
     "metadata": {},
     "output_type": "execute_result"
    }
   ],
   "source": [
    "list([1, 52, 32])"
   ]
  },
  {
   "cell_type": "code",
   "execution_count": 53,
   "id": "fe59a4ab",
   "metadata": {},
   "outputs": [],
   "source": [
    "var_list = [5, 21, 63]"
   ]
  },
  {
   "cell_type": "code",
   "execution_count": 54,
   "id": "89ad0df8",
   "metadata": {},
   "outputs": [
    {
     "data": {
      "text/plain": [
       "list"
      ]
     },
     "execution_count": 54,
     "metadata": {},
     "output_type": "execute_result"
    }
   ],
   "source": [
    "type(var_list)"
   ]
  },
  {
   "cell_type": "code",
   "execution_count": 55,
   "id": "861b4375",
   "metadata": {},
   "outputs": [],
   "source": [
    "var_list2 = list([5, 21, 63])"
   ]
  },
  {
   "cell_type": "code",
   "execution_count": 56,
   "id": "45a1b62b",
   "metadata": {},
   "outputs": [
    {
     "data": {
      "text/plain": [
       "list"
      ]
     },
     "execution_count": 56,
     "metadata": {},
     "output_type": "execute_result"
    }
   ],
   "source": [
    "type(var_list2)"
   ]
  },
  {
   "cell_type": "code",
   "execution_count": 57,
   "id": "7cb54c20",
   "metadata": {},
   "outputs": [
    {
     "name": "stdout",
     "output_type": "stream",
     "text": [
      "12\n",
      "25\n",
      "39\n",
      "54\n",
      "The final value of add is  54\n"
     ]
    }
   ],
   "source": [
    "list1 = [12, 13, 14, 15]\n",
    "add = 0\n",
    "\n",
    "for i in list1:\n",
    "    add = add + i # 0 + 12 = 12    \n",
    "    print(add) # loop print statement\n",
    "print('The final value of add is ', add)   "
   ]
  },
  {
   "cell_type": "code",
   "execution_count": 58,
   "id": "d6fdfd9f",
   "metadata": {},
   "outputs": [
    {
     "name": "stdout",
     "output_type": "stream",
     "text": [
      "12\n",
      "13\n",
      "15\n"
     ]
    }
   ],
   "source": [
    "list1 = [12, 13, 14, 15]\n",
    "add = 0\n",
    "\n",
    "for i in list1:\n",
    "    if i == 14:\n",
    "        continue\n",
    "    print(i)"
   ]
  },
  {
   "cell_type": "code",
   "execution_count": 59,
   "id": "81b0413d",
   "metadata": {},
   "outputs": [
    {
     "data": {
      "text/plain": [
       "3"
      ]
     },
     "execution_count": 59,
     "metadata": {},
     "output_type": "execute_result"
    }
   ],
   "source": [
    "list_city = ['Chennai', 'Kolkata', 'Mumbai']\n",
    "len(list_city)"
   ]
  },
  {
   "cell_type": "code",
   "execution_count": 60,
   "id": "cc694f84",
   "metadata": {},
   "outputs": [
    {
     "data": {
      "text/plain": [
       "[0, 1, 2]"
      ]
     },
     "execution_count": 60,
     "metadata": {},
     "output_type": "execute_result"
    }
   ],
   "source": [
    "list(range(len(list_city)))"
   ]
  },
  {
   "cell_type": "code",
   "execution_count": 61,
   "id": "7309821f",
   "metadata": {},
   "outputs": [
    {
     "name": "stdout",
     "output_type": "stream",
     "text": [
      "I like to go to:  Chennai\n",
      "I like to go to:  Kolkata\n",
      "I like to go to:  Mumbai\n"
     ]
    }
   ],
   "source": [
    "for i in range(len(list_city)):\n",
    "    print('I like to go to: ', list_city[i])"
   ]
  },
  {
   "cell_type": "code",
   "execution_count": 62,
   "id": "fe14b130",
   "metadata": {},
   "outputs": [
    {
     "name": "stdout",
     "output_type": "stream",
     "text": [
      "I have  1 days\n",
      "I have  10 days\n",
      "I have  100 days\n",
      "Else block\n"
     ]
    }
   ],
   "source": [
    "num = [1, 10, 100]\n",
    "\n",
    "for i in num:\n",
    "    print('I have ', i, 'days')\n",
    "    \n",
    "else:\n",
    "    print('Else block')"
   ]
  },
  {
   "cell_type": "code",
   "execution_count": 63,
   "id": "816ee8ae",
   "metadata": {},
   "outputs": [
    {
     "name": "stdout",
     "output_type": "stream",
     "text": [
      "the number is:  1\n"
     ]
    }
   ],
   "source": [
    "num = [1, 10, 100]\n",
    "\n",
    "for i in num:\n",
    "    if i==10:\n",
    "        break\n",
    "    print('the number is: ', i)\n",
    "else:\n",
    "    print('I have', i, 'days')"
   ]
  },
  {
   "cell_type": "markdown",
   "id": "3cbea7b4",
   "metadata": {},
   "source": [
    "## While loop"
   ]
  },
  {
   "cell_type": "code",
   "execution_count": 64,
   "id": "b5a8a8b0",
   "metadata": {},
   "outputs": [
    {
     "name": "stdout",
     "output_type": "stream",
     "text": [
      "Enter the number5\n",
      "The sum of numbers is : 10\n"
     ]
    }
   ],
   "source": [
    "#sum of numbers\n",
    "\n",
    "num = int(input('Enter the number'))\n",
    "\n",
    "i = 0\n",
    "sum_var = 0\n",
    "\n",
    "while i < num:\n",
    "    sum_var = sum_var + i\n",
    "#     print(i)\n",
    "    i = i + 1 #update this counter\n",
    "\n",
    "\n",
    "print('The sum of numbers is :' ,sum_var)\n",
    "\n",
    "#0+1+2+3+4"
   ]
  },
  {
   "cell_type": "code",
   "execution_count": 65,
   "id": "b5554b2a",
   "metadata": {},
   "outputs": [
    {
     "name": "stdout",
     "output_type": "stream",
     "text": [
      "5\n"
     ]
    }
   ],
   "source": [
    "i = 0\n",
    "sum_var = 0\n",
    "\n",
    "while i < num:\n",
    "    i = i + 1\n",
    "else:\n",
    "    print(i)"
   ]
  },
  {
   "cell_type": "markdown",
   "id": "50270d2b",
   "metadata": {},
   "source": [
    "## Break, continue and pass"
   ]
  },
  {
   "cell_type": "code",
   "execution_count": 67,
   "id": "9294c357",
   "metadata": {},
   "outputs": [
    {
     "name": "stdout",
     "output_type": "stream",
     "text": [
      "C\n",
      "o\n",
      "u\n",
      "n\n",
      "t\n"
     ]
    }
   ],
   "source": [
    "for i in 'Country':\n",
    "    if i in ['r', 'r']:\n",
    "        break\n",
    "    print(i)"
   ]
  },
  {
   "cell_type": "code",
   "execution_count": 68,
   "id": "5cc03f12",
   "metadata": {},
   "outputs": [
    {
     "name": "stdout",
     "output_type": "stream",
     "text": [
      "C\n",
      "o\n",
      "u\n",
      "n\n",
      "t\n",
      "y\n"
     ]
    }
   ],
   "source": [
    "for i in 'Country':\n",
    "    if i == 'r':\n",
    "        continue\n",
    "    print(i)"
   ]
  },
  {
   "cell_type": "code",
   "execution_count": 69,
   "id": "bb34631f",
   "metadata": {},
   "outputs": [],
   "source": [
    "#pass statement explanation\n",
    "\n",
    "list_val = ['P', 'a', 's', 's']\n",
    "\n",
    "for i in list_val:\n",
    "    pass #add some logic later"
   ]
  },
  {
   "cell_type": "markdown",
   "id": "8155073a",
   "metadata": {},
   "source": [
    "## Functions"
   ]
  },
  {
   "cell_type": "code",
   "execution_count": 70,
   "id": "9cd34d00",
   "metadata": {},
   "outputs": [],
   "source": [
    "def greetings(name):\n",
    "    \"\"\"Function to greet someone\"\"\"\n",
    "    print(\"Hello\", name, \"How're you\")"
   ]
  },
  {
   "cell_type": "code",
   "execution_count": 71,
   "id": "477f7b80",
   "metadata": {},
   "outputs": [
    {
     "name": "stdout",
     "output_type": "stream",
     "text": [
      "Hello guys How're you\n"
     ]
    }
   ],
   "source": [
    "greetings('guys')"
   ]
  },
  {
   "cell_type": "code",
   "execution_count": 72,
   "id": "4395a39b",
   "metadata": {},
   "outputs": [
    {
     "name": "stdout",
     "output_type": "stream",
     "text": [
      "Function to greet someone\n"
     ]
    }
   ],
   "source": [
    "print(greetings.__doc__)"
   ]
  },
  {
   "cell_type": "code",
   "execution_count": 73,
   "id": "4896fd11",
   "metadata": {},
   "outputs": [],
   "source": [
    "def Absoluteval(val):\n",
    "    val1=abs(val)\n",
    "    return val1"
   ]
  },
  {
   "cell_type": "code",
   "execution_count": 74,
   "id": "f916f966",
   "metadata": {},
   "outputs": [
    {
     "data": {
      "text/plain": [
       "9"
      ]
     },
     "execution_count": 74,
     "metadata": {},
     "output_type": "execute_result"
    }
   ],
   "source": [
    "ret_var = Absoluteval(-9)\n",
    "ret_var"
   ]
  },
  {
   "cell_type": "code",
   "execution_count": 75,
   "id": "b5d89ddf",
   "metadata": {},
   "outputs": [
    {
     "name": "stdout",
     "output_type": "stream",
     "text": [
      "9\n"
     ]
    }
   ],
   "source": [
    "def value(k):\n",
    "    if k>0 :\n",
    "        print (k)\n",
    "    elif k<0:\n",
    "        t= k * -1\n",
    "        print(t)\n",
    "value(-9)"
   ]
  },
  {
   "cell_type": "code",
   "execution_count": 76,
   "id": "d46930e9",
   "metadata": {},
   "outputs": [],
   "source": [
    "def func1(a):\n",
    "    \"\"\"test\"\"\"\n",
    "    if a>0:\n",
    "        print(a)\n",
    "    else:\n",
    "        a=a*-1\n",
    "        print(a)"
   ]
  },
  {
   "cell_type": "code",
   "execution_count": 77,
   "id": "e1b10904",
   "metadata": {},
   "outputs": [
    {
     "name": "stdout",
     "output_type": "stream",
     "text": [
      "8\n"
     ]
    }
   ],
   "source": [
    "func1(-8)"
   ]
  },
  {
   "cell_type": "code",
   "execution_count": 78,
   "id": "7f384163",
   "metadata": {},
   "outputs": [],
   "source": [
    "def absolute(num):\n",
    "    if(num > 0):\n",
    "        return num\n",
    "    else:\n",
    "        num = -1*num\n",
    "        return num"
   ]
  },
  {
   "cell_type": "code",
   "execution_count": 79,
   "id": "e921ae96",
   "metadata": {},
   "outputs": [
    {
     "data": {
      "text/plain": [
       "8"
      ]
     },
     "execution_count": 79,
     "metadata": {},
     "output_type": "execute_result"
    }
   ],
   "source": [
    "absolute(-8)"
   ]
  },
  {
   "cell_type": "code",
   "execution_count": 80,
   "id": "00cf65c6",
   "metadata": {},
   "outputs": [],
   "source": [
    "def absolute_val(value):\n",
    "    \"\"\"Function to return the absolute value\"\"\"\n",
    "    if value > 0:\n",
    "        return value\n",
    "    else:\n",
    "        return -value"
   ]
  },
  {
   "cell_type": "code",
   "execution_count": 81,
   "id": "316a4d5b",
   "metadata": {},
   "outputs": [
    {
     "data": {
      "text/plain": [
       "50"
      ]
     },
     "execution_count": 81,
     "metadata": {},
     "output_type": "execute_result"
    }
   ],
   "source": [
    "absolute_val(-50)"
   ]
  },
  {
   "cell_type": "code",
   "execution_count": 82,
   "id": "4fb47e69",
   "metadata": {},
   "outputs": [
    {
     "name": "stdout",
     "output_type": "stream",
     "text": [
      "Inside the function  10\n",
      "Outside the function 20\n"
     ]
    }
   ],
   "source": [
    "def func():\n",
    "    a = 10 #local variable\n",
    "    print('Inside the function ', a)\n",
    "    \n",
    "a = 20 #global variable\n",
    "func()\n",
    "\n",
    "print('Outside the function', a)"
   ]
  },
  {
   "cell_type": "markdown",
   "id": "aa173f01",
   "metadata": {},
   "source": [
    "## Function Arguments"
   ]
  },
  {
   "cell_type": "markdown",
   "id": "34290d40",
   "metadata": {},
   "source": [
    "### Positinal aruguments"
   ]
  },
  {
   "cell_type": "code",
   "execution_count": 85,
   "id": "0cebb5a5",
   "metadata": {},
   "outputs": [],
   "source": [
    "def greet(arg1, arg2):\n",
    "    \"\"\"Function with arguments\"\"\"\n",
    "    print(arg1, arg2, 'everyone!')"
   ]
  },
  {
   "cell_type": "code",
   "execution_count": 86,
   "id": "95852059",
   "metadata": {},
   "outputs": [
    {
     "ename": "TypeError",
     "evalue": "greet() missing 2 required positional arguments: 'arg1' and 'arg2'",
     "output_type": "error",
     "traceback": [
      "\u001b[1;31m---------------------------------------------------------------------------\u001b[0m",
      "\u001b[1;31mTypeError\u001b[0m                                 Traceback (most recent call last)",
      "\u001b[1;32mC:\\Users\\MADHU'~1\\AppData\\Local\\Temp/ipykernel_17952/2890983093.py\u001b[0m in \u001b[0;36m<module>\u001b[1;34m\u001b[0m\n\u001b[1;32m----> 1\u001b[1;33m \u001b[0mgreet\u001b[0m\u001b[1;33m(\u001b[0m\u001b[1;33m)\u001b[0m\u001b[1;33m\u001b[0m\u001b[1;33m\u001b[0m\u001b[0m\n\u001b[0m",
      "\u001b[1;31mTypeError\u001b[0m: greet() missing 2 required positional arguments: 'arg1' and 'arg2'"
     ]
    }
   ],
   "source": [
    "greet()"
   ]
  },
  {
   "cell_type": "code",
   "execution_count": 87,
   "id": "c356e134",
   "metadata": {},
   "outputs": [
    {
     "name": "stdout",
     "output_type": "stream",
     "text": [
      "Good Evening everyone!\n"
     ]
    }
   ],
   "source": [
    "greet('Good', 'Evening')"
   ]
  },
  {
   "cell_type": "markdown",
   "id": "b84b7cfb",
   "metadata": {},
   "source": [
    "### Default arguments"
   ]
  },
  {
   "cell_type": "code",
   "execution_count": 89,
   "id": "3ed996a9",
   "metadata": {},
   "outputs": [],
   "source": [
    "def greet(arg1, arg2 = \"Good morning\"):\n",
    "    print(\"Hello\", arg1, arg2)"
   ]
  },
  {
   "cell_type": "code",
   "execution_count": 90,
   "id": "a1042c77",
   "metadata": {},
   "outputs": [
    {
     "name": "stdout",
     "output_type": "stream",
     "text": [
      "Hello people Good morning\n"
     ]
    }
   ],
   "source": [
    "greet('people')"
   ]
  },
  {
   "cell_type": "code",
   "execution_count": 91,
   "id": "5c3a5565",
   "metadata": {},
   "outputs": [
    {
     "name": "stdout",
     "output_type": "stream",
     "text": [
      "Hello people How are you\n"
     ]
    }
   ],
   "source": [
    "greet('people', \"How are you\")"
   ]
  },
  {
   "cell_type": "code",
   "execution_count": 92,
   "id": "f566111e",
   "metadata": {},
   "outputs": [
    {
     "ename": "SyntaxError",
     "evalue": "non-default argument follows default argument (Temp/ipykernel_17952/2964982374.py, line 1)",
     "output_type": "error",
     "traceback": [
      "\u001b[1;36m  File \u001b[1;32m\"C:\\Users\\MADHU'~1\\AppData\\Local\\Temp/ipykernel_17952/2964982374.py\"\u001b[1;36m, line \u001b[1;32m1\u001b[0m\n\u001b[1;33m    def greet(arg2 = \"Good morning\", arg1):\u001b[0m\n\u001b[1;37m                                         ^\u001b[0m\n\u001b[1;31mSyntaxError\u001b[0m\u001b[1;31m:\u001b[0m non-default argument follows default argument\n"
     ]
    }
   ],
   "source": [
    "def greet(arg2 = \"Good morning\", arg1):\n",
    "    print(\"Hello\", arg1, arg2)"
   ]
  },
  {
   "cell_type": "markdown",
   "id": "ffab873c",
   "metadata": {},
   "source": [
    "## Keyword arguments"
   ]
  },
  {
   "cell_type": "code",
   "execution_count": 94,
   "id": "881c9142",
   "metadata": {},
   "outputs": [
    {
     "name": "stdout",
     "output_type": "stream",
     "text": [
      "Hello Hi Everyone\n",
      "Hello Hi Everyone\n",
      "Hello Hi Everyone\n"
     ]
    }
   ],
   "source": [
    "greet(arg1 = \"Hi\", arg2 = \"Everyone\")\n",
    "greet(arg2 = \"Everyone\", arg1 = \"Hi\")\n",
    "greet(\"Hi\", arg2=\"Everyone\")"
   ]
  },
  {
   "cell_type": "code",
   "execution_count": 95,
   "id": "f33ab745",
   "metadata": {},
   "outputs": [
    {
     "name": "stdout",
     "output_type": "stream",
     "text": [
      "Hello Hi Everyone\n"
     ]
    }
   ],
   "source": [
    "greet(\"Hi\",  \"Everyone\")"
   ]
  },
  {
   "cell_type": "markdown",
   "id": "9bff2762",
   "metadata": {},
   "source": [
    "## Recursion"
   ]
  },
  {
   "cell_type": "code",
   "execution_count": 97,
   "id": "522e4d91",
   "metadata": {},
   "outputs": [],
   "source": [
    "# factorial of a number\n",
    "# 5!\n",
    "#1!"
   ]
  },
  {
   "cell_type": "code",
   "execution_count": 98,
   "id": "5b50b150",
   "metadata": {},
   "outputs": [
    {
     "data": {
      "text/plain": [
       "120"
      ]
     },
     "execution_count": 98,
     "metadata": {},
     "output_type": "execute_result"
    }
   ],
   "source": [
    "5 * 4 * 3 * 2 * 1"
   ]
  },
  {
   "cell_type": "code",
   "execution_count": 99,
   "id": "55e3bd3d",
   "metadata": {},
   "outputs": [
    {
     "name": "stdout",
     "output_type": "stream",
     "text": [
      "Factorial of 5 is 120\n"
     ]
    }
   ],
   "source": [
    "def recursion(x):\n",
    "    if x == 1:\n",
    "        return x\n",
    "    else:\n",
    "        return (x * recursion(x-1))\n",
    "    \n",
    "num = 5\n",
    "print('Factorial of', num, 'is', recursion(num))"
   ]
  },
  {
   "cell_type": "markdown",
   "id": "28886465",
   "metadata": {},
   "source": [
    "## Lamda - Anonymous function"
   ]
  },
  {
   "cell_type": "code",
   "execution_count": 101,
   "id": "c506c994",
   "metadata": {},
   "outputs": [
    {
     "data": {
      "text/plain": [
       "50"
      ]
     },
     "execution_count": 101,
     "metadata": {},
     "output_type": "execute_result"
    }
   ],
   "source": [
    "cube = lambda x, y : x*  y\n",
    "cube(10, 5)"
   ]
  },
  {
   "cell_type": "markdown",
   "id": "d8fc3138",
   "metadata": {},
   "source": [
    "## Filter"
   ]
  },
  {
   "cell_type": "markdown",
   "id": "8b906af2",
   "metadata": {},
   "source": [
    "Filter takes in a function and a list of argument/dict\n",
    "\n",
    "The function is called with the items in the list, and a new list is returned containing the items for which the functions evaluates to True\n"
   ]
  },
  {
   "cell_type": "code",
   "execution_count": 102,
   "id": "7c1b3cb5",
   "metadata": {},
   "outputs": [
    {
     "name": "stdout",
     "output_type": "stream",
     "text": [
      "[0, 1, 2, 3, 4, 5, 6, 7, 8, 9]\n"
     ]
    }
   ],
   "source": [
    "my_list = list(range(10))\n",
    "print(my_list)"
   ]
  },
  {
   "cell_type": "code",
   "execution_count": 103,
   "id": "e091fb13",
   "metadata": {},
   "outputs": [
    {
     "name": "stdout",
     "output_type": "stream",
     "text": [
      "Applying the filter operation:  [0, 2, 4, 6, 8]\n"
     ]
    }
   ],
   "source": [
    "fil = list(filter(lambda x : x % 2 == 0, my_list))\n",
    "print('Applying the filter operation: ', fil)"
   ]
  },
  {
   "cell_type": "markdown",
   "id": "a12bf974",
   "metadata": {},
   "source": [
    "## Map"
   ]
  },
  {
   "cell_type": "markdown",
   "id": "4b521b5e",
   "metadata": {},
   "source": [
    "Filter takes in a function and a list of argument/dict\n",
    "\n",
    "Every items in the list will be returned based on the function that we're performing"
   ]
  },
  {
   "cell_type": "code",
   "execution_count": 105,
   "id": "afe19984",
   "metadata": {},
   "outputs": [
    {
     "name": "stdout",
     "output_type": "stream",
     "text": [
      "[1, 1, 0, 0, 0, 1, 1, 0]\n"
     ]
    }
   ],
   "source": [
    "my_list = [1, 5, 4, 6, 8, 11, 3, 12]\n",
    "\n",
    "new_list = list(map(lambda x: x%2, my_list))\n",
    "print(new_list)"
   ]
  },
  {
   "cell_type": "code",
   "execution_count": 106,
   "id": "a2d4d144",
   "metadata": {},
   "outputs": [
    {
     "name": "stdout",
     "output_type": "stream",
     "text": [
      "['A', 'B', 'C']\n"
     ]
    }
   ],
   "source": [
    "fil11 = list(map(lambda x : x.upper(), ['a', 'b', 'c']))\n",
    "print(fil11)"
   ]
  },
  {
   "cell_type": "code",
   "execution_count": 107,
   "id": "9ef2e118",
   "metadata": {},
   "outputs": [
    {
     "name": "stdout",
     "output_type": "stream",
     "text": [
      "[20, 30, 40, 50]\n"
     ]
    }
   ],
   "source": [
    "my_dict = {10: 'B', 20: 'A', 30: 'A', 40: 'B', 50: 'A'}  \n",
    "\n",
    "filt1 = list((filter(lambda x : x > 10, my_dict)))\n",
    "print(filt1)"
   ]
  },
  {
   "cell_type": "code",
   "execution_count": 108,
   "id": "e28df48c",
   "metadata": {},
   "outputs": [
    {
     "name": "stdout",
     "output_type": "stream",
     "text": [
      "['a', 'e']\n"
     ]
    }
   ],
   "source": [
    "def fun(var):\n",
    "    letters = ['a', 'e', 'i', 'o', 'u']\n",
    "    if (var in letters):\n",
    "        return True\n",
    "    else:\n",
    "        return False\n",
    "    \n",
    "seq = ['a', 'b', 'c', 'd', 'e']\n",
    "fil = list(filter(fun,seq))\n",
    "print (fil)"
   ]
  },
  {
   "cell_type": "code",
   "execution_count": null,
   "id": "3ba3d75d",
   "metadata": {},
   "outputs": [],
   "source": []
  }
 ],
 "metadata": {
  "kernelspec": {
   "display_name": "Python 3 (ipykernel)",
   "language": "python",
   "name": "python3"
  },
  "language_info": {
   "codemirror_mode": {
    "name": "ipython",
    "version": 3
   },
   "file_extension": ".py",
   "mimetype": "text/x-python",
   "name": "python",
   "nbconvert_exporter": "python",
   "pygments_lexer": "ipython3",
   "version": "3.9.7"
  }
 },
 "nbformat": 4,
 "nbformat_minor": 5
}
